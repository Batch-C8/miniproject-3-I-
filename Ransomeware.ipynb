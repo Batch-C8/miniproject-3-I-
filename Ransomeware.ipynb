{
  "cells": [
    {
      "cell_type": "code",
      "execution_count": 2,
      "metadata": {
        "colab": {
          "base_uri": "https://localhost:8080/"
        },
        "id": "poDszwOtMTZp",
        "outputId": "0bc34fd7-e17f-43eb-e33b-9725d13e38d0"
      },
      "outputs": [
        {
          "name": "stdout",
          "output_type": "stream",
          "text": [
            "Requirement already satisfied: lazypredict in c:\\users\\sanja\\appdata\\local\\programs\\python\\python312\\lib\\site-packages (0.2.13)"
          ]
        },
        {
          "name": "stderr",
          "output_type": "stream",
          "text": [
            "\n",
            "[notice] A new release of pip is available: 24.2 -> 24.3.1\n",
            "[notice] To update, run: python.exe -m pip install --upgrade pip\n"
          ]
        },
        {
          "name": "stdout",
          "output_type": "stream",
          "text": [
            "\n",
            "Requirement already satisfied: click in c:\\users\\sanja\\appdata\\local\\programs\\python\\python312\\lib\\site-packages (from lazypredict) (8.1.7)\n",
            "Requirement already satisfied: scikit-learn in c:\\users\\sanja\\appdata\\local\\programs\\python\\python312\\lib\\site-packages (from lazypredict) (1.6.0)\n",
            "Requirement already satisfied: pandas in c:\\users\\sanja\\appdata\\local\\programs\\python\\python312\\lib\\site-packages (from lazypredict) (2.2.3)\n",
            "Requirement already satisfied: tqdm in c:\\users\\sanja\\appdata\\local\\programs\\python\\python312\\lib\\site-packages (from lazypredict) (4.67.1)\n",
            "Requirement already satisfied: joblib in c:\\users\\sanja\\appdata\\local\\programs\\python\\python312\\lib\\site-packages (from lazypredict) (1.4.2)\n",
            "Requirement already satisfied: lightgbm in c:\\users\\sanja\\appdata\\local\\programs\\python\\python312\\lib\\site-packages (from lazypredict) (4.5.0)\n",
            "Requirement already satisfied: xgboost in c:\\users\\sanja\\appdata\\local\\programs\\python\\python312\\lib\\site-packages (from lazypredict) (2.1.3)\n",
            "Requirement already satisfied: colorama in c:\\users\\sanja\\appdata\\local\\programs\\python\\python312\\lib\\site-packages (from click->lazypredict) (0.4.6)\n",
            "Requirement already satisfied: numpy>=1.17.0 in c:\\users\\sanja\\appdata\\local\\programs\\python\\python312\\lib\\site-packages (from lightgbm->lazypredict) (1.26.4)\n",
            "Requirement already satisfied: scipy in c:\\users\\sanja\\appdata\\local\\programs\\python\\python312\\lib\\site-packages (from lightgbm->lazypredict) (1.14.1)\n",
            "Requirement already satisfied: python-dateutil>=2.8.2 in c:\\users\\sanja\\appdata\\local\\programs\\python\\python312\\lib\\site-packages (from pandas->lazypredict) (2.9.0.post0)\n",
            "Requirement already satisfied: pytz>=2020.1 in c:\\users\\sanja\\appdata\\local\\programs\\python\\python312\\lib\\site-packages (from pandas->lazypredict) (2024.2)\n",
            "Requirement already satisfied: tzdata>=2022.7 in c:\\users\\sanja\\appdata\\local\\programs\\python\\python312\\lib\\site-packages (from pandas->lazypredict) (2024.2)\n",
            "Requirement already satisfied: threadpoolctl>=3.1.0 in c:\\users\\sanja\\appdata\\local\\programs\\python\\python312\\lib\\site-packages (from scikit-learn->lazypredict) (3.5.0)\n",
            "Requirement already satisfied: six>=1.5 in c:\\users\\sanja\\appdata\\local\\programs\\python\\python312\\lib\\site-packages (from python-dateutil>=2.8.2->pandas->lazypredict) (1.16.0)\n",
            "Requirement already satisfied: lime in c:\\users\\sanja\\appdata\\local\\programs\\python\\python312\\lib\\site-packages (0.2.0.1)\n",
            "Requirement already satisfied: matplotlib in c:\\users\\sanja\\appdata\\local\\programs\\python\\python312\\lib\\site-packages (from lime) (3.9.3)\n",
            "Requirement already satisfied: numpy in c:\\users\\sanja\\appdata\\local\\programs\\python\\python312\\lib\\site-packages (from lime) (1.26.4)\n",
            "Requirement already satisfied: scipy in c:\\users\\sanja\\appdata\\local\\programs\\python\\python312\\lib\\site-packages (from lime) (1.14.1)\n",
            "Requirement already satisfied: tqdm in c:\\users\\sanja\\appdata\\local\\programs\\python\\python312\\lib\\site-packages (from lime) (4.67.1)\n",
            "Requirement already satisfied: scikit-learn>=0.18 in c:\\users\\sanja\\appdata\\local\\programs\\python\\python312\\lib\\site-packages (from lime) (1.6.0)\n",
            "Requirement already satisfied: scikit-image>=0.12 in c:\\users\\sanja\\appdata\\local\\programs\\python\\python312\\lib\\site-packages (from lime) (0.24.0)\n",
            "Requirement already satisfied: networkx>=2.8 in c:\\users\\sanja\\appdata\\local\\programs\\python\\python312\\lib\\site-packages (from scikit-image>=0.12->lime) (3.2.1)\n",
            "Requirement already satisfied: pillow>=9.1 in c:\\users\\sanja\\appdata\\local\\programs\\python\\python312\\lib\\site-packages (from scikit-image>=0.12->lime) (10.2.0)\n",
            "Requirement already satisfied: imageio>=2.33 in c:\\users\\sanja\\appdata\\local\\programs\\python\\python312\\lib\\site-packages (from scikit-image>=0.12->lime) (2.36.1)\n",
            "Requirement already satisfied: tifffile>=2022.8.12 in c:\\users\\sanja\\appdata\\local\\programs\\python\\python312\\lib\\site-packages (from scikit-image>=0.12->lime) (2024.12.12)\n",
            "Requirement already satisfied: packaging>=21 in c:\\users\\sanja\\appdata\\local\\programs\\python\\python312\\lib\\site-packages (from scikit-image>=0.12->lime) (24.1)\n",
            "Requirement already satisfied: lazy-loader>=0.4 in c:\\users\\sanja\\appdata\\local\\programs\\python\\python312\\lib\\site-packages (from scikit-image>=0.12->lime) (0.4)\n",
            "Requirement already satisfied: joblib>=1.2.0 in c:\\users\\sanja\\appdata\\local\\programs\\python\\python312\\lib\\site-packages (from scikit-learn>=0.18->lime) (1.4.2)\n",
            "Requirement already satisfied: threadpoolctl>=3.1.0 in c:\\users\\sanja\\appdata\\local\\programs\\python\\python312\\lib\\site-packages (from scikit-learn>=0.18->lime) (3.5.0)\n",
            "Requirement already satisfied: contourpy>=1.0.1 in c:\\users\\sanja\\appdata\\local\\programs\\python\\python312\\lib\\site-packages (from matplotlib->lime) (1.3.1)\n",
            "Requirement already satisfied: cycler>=0.10 in c:\\users\\sanja\\appdata\\local\\programs\\python\\python312\\lib\\site-packages (from matplotlib->lime) (0.12.1)\n",
            "Requirement already satisfied: fonttools>=4.22.0 in c:\\users\\sanja\\appdata\\local\\programs\\python\\python312\\lib\\site-packages (from matplotlib->lime) (4.55.3)\n",
            "Requirement already satisfied: kiwisolver>=1.3.1 in c:\\users\\sanja\\appdata\\local\\programs\\python\\python312\\lib\\site-packages (from matplotlib->lime) (1.4.7)\n",
            "Requirement already satisfied: pyparsing>=2.3.1 in c:\\users\\sanja\\appdata\\local\\programs\\python\\python312\\lib\\site-packages (from matplotlib->lime) (3.2.0)\n",
            "Requirement already satisfied: python-dateutil>=2.7 in c:\\users\\sanja\\appdata\\local\\programs\\python\\python312\\lib\\site-packages (from matplotlib->lime) (2.9.0.post0)\n",
            "Requirement already satisfied: colorama in c:\\users\\sanja\\appdata\\local\\programs\\python\\python312\\lib\\site-packages (from tqdm->lime) (0.4.6)\n",
            "Requirement already satisfied: six>=1.5 in c:\\users\\sanja\\appdata\\local\\programs\\python\\python312\\lib\\site-packages (from python-dateutil>=2.7->matplotlib->lime) (1.16.0)\n"
          ]
        },
        {
          "name": "stderr",
          "output_type": "stream",
          "text": [
            "\n",
            "[notice] A new release of pip is available: 24.2 -> 24.3.1\n",
            "[notice] To update, run: python.exe -m pip install --upgrade pip\n"
          ]
        }
      ],
      "source": [
        "!pip install lazypredict\n",
        "!pip install lime"
      ]
    },
    {
      "cell_type": "code",
      "execution_count": 3,
      "metadata": {
        "id": "IBqsmZQuMYnN"
      },
      "outputs": [],
      "source": [
        "import pandas as pd\n",
        "import numpy as np\n",
        "import matplotlib.pyplot as plt\n",
        "import seaborn as sns\n",
        "pd.set_option('display.max_columns', None)\n",
        "\n",
        "import warnings\n",
        "warnings.filterwarnings(\"ignore\")\n",
        "\n",
        "from sklearn.model_selection import train_test_split\n",
        "import lazypredict\n",
        "from lazypredict.Supervised import LazyClassifier\n",
        "from sklearn.ensemble import *\n",
        "from sklearn.metrics import *\n",
        "import lime.lime_tabular\n",
        "from imblearn.over_sampling import SMOTE\n",
        "from collections import Counter"
      ]
    },
    {
      "cell_type": "code",
      "execution_count": 4,
      "metadata": {
        "colab": {
          "base_uri": "https://localhost:8080/",
          "height": 226
        },
        "id": "6etsFyZAMbvG",
        "outputId": "3d230ab0-eec3-4d4c-cbe2-6e6e587a137c"
      },
      "outputs": [
        {
          "data": {
            "text/html": [
              "<div>\n",
              "<style scoped>\n",
              "    .dataframe tbody tr th:only-of-type {\n",
              "        vertical-align: middle;\n",
              "    }\n",
              "\n",
              "    .dataframe tbody tr th {\n",
              "        vertical-align: top;\n",
              "    }\n",
              "\n",
              "    .dataframe thead th {\n",
              "        text-align: right;\n",
              "    }\n",
              "</style>\n",
              "<table border=\"1\" class=\"dataframe\">\n",
              "  <thead>\n",
              "    <tr style=\"text-align: right;\">\n",
              "      <th></th>\n",
              "      <th>FileName</th>\n",
              "      <th>md5Hash</th>\n",
              "      <th>Machine</th>\n",
              "      <th>DebugSize</th>\n",
              "      <th>DebugRVA</th>\n",
              "      <th>MajorImageVersion</th>\n",
              "      <th>MajorOSVersion</th>\n",
              "      <th>ExportRVA</th>\n",
              "      <th>ExportSize</th>\n",
              "      <th>IatVRA</th>\n",
              "      <th>MajorLinkerVersion</th>\n",
              "      <th>MinorLinkerVersion</th>\n",
              "      <th>NumberOfSections</th>\n",
              "      <th>SizeOfStackReserve</th>\n",
              "      <th>DllCharacteristics</th>\n",
              "      <th>ResourceSize</th>\n",
              "      <th>BitcoinAddresses</th>\n",
              "      <th>Benign</th>\n",
              "    </tr>\n",
              "  </thead>\n",
              "  <tbody>\n",
              "    <tr>\n",
              "      <th>0</th>\n",
              "      <td>0124e21d-018c-4ce0-92a3-b9e205a76bc0.dll</td>\n",
              "      <td>79755c51e413ed3c6be4635fd729a6e1</td>\n",
              "      <td>332</td>\n",
              "      <td>0</td>\n",
              "      <td>0</td>\n",
              "      <td>0</td>\n",
              "      <td>4</td>\n",
              "      <td>0</td>\n",
              "      <td>0</td>\n",
              "      <td>8192</td>\n",
              "      <td>8</td>\n",
              "      <td>0</td>\n",
              "      <td>3</td>\n",
              "      <td>1048576</td>\n",
              "      <td>34112</td>\n",
              "      <td>672</td>\n",
              "      <td>0</td>\n",
              "      <td>1</td>\n",
              "    </tr>\n",
              "    <tr>\n",
              "      <th>1</th>\n",
              "      <td>05c8318f98a5d301d80000009c316005.vertdll.dll</td>\n",
              "      <td>95e19f3657d34a432eada93221b0ea16</td>\n",
              "      <td>34404</td>\n",
              "      <td>84</td>\n",
              "      <td>121728</td>\n",
              "      <td>10</td>\n",
              "      <td>10</td>\n",
              "      <td>126576</td>\n",
              "      <td>4930</td>\n",
              "      <td>0</td>\n",
              "      <td>14</td>\n",
              "      <td>10</td>\n",
              "      <td>8</td>\n",
              "      <td>262144</td>\n",
              "      <td>16864</td>\n",
              "      <td>1024</td>\n",
              "      <td>0</td>\n",
              "      <td>1</td>\n",
              "    </tr>\n",
              "    <tr>\n",
              "      <th>2</th>\n",
              "      <td>06054fba-5619-4a86-a861-ffb0464bef5d.dll</td>\n",
              "      <td>85c32641d77a54e19ba8ea4ab305c791</td>\n",
              "      <td>332</td>\n",
              "      <td>0</td>\n",
              "      <td>0</td>\n",
              "      <td>0</td>\n",
              "      <td>4</td>\n",
              "      <td>0</td>\n",
              "      <td>0</td>\n",
              "      <td>8192</td>\n",
              "      <td>8</td>\n",
              "      <td>0</td>\n",
              "      <td>3</td>\n",
              "      <td>1048576</td>\n",
              "      <td>34112</td>\n",
              "      <td>672</td>\n",
              "      <td>0</td>\n",
              "      <td>1</td>\n",
              "    </tr>\n",
              "    <tr>\n",
              "      <th>3</th>\n",
              "      <td>075822ac99a5d301660400009c316005.adhapi.dll</td>\n",
              "      <td>62e3b959d982ef534b66f819fe15f085</td>\n",
              "      <td>34404</td>\n",
              "      <td>84</td>\n",
              "      <td>19904</td>\n",
              "      <td>10</td>\n",
              "      <td>10</td>\n",
              "      <td>21312</td>\n",
              "      <td>252</td>\n",
              "      <td>18160</td>\n",
              "      <td>14</td>\n",
              "      <td>10</td>\n",
              "      <td>6</td>\n",
              "      <td>262144</td>\n",
              "      <td>16736</td>\n",
              "      <td>1040</td>\n",
              "      <td>0</td>\n",
              "      <td>1</td>\n",
              "    </tr>\n",
              "    <tr>\n",
              "      <th>4</th>\n",
              "      <td>090607dd9ba5d301ca0900009c316005.SensorsNative...</td>\n",
              "      <td>ae38c5f7d313ad0ff3bfb8826476767f</td>\n",
              "      <td>34404</td>\n",
              "      <td>84</td>\n",
              "      <td>97728</td>\n",
              "      <td>10</td>\n",
              "      <td>10</td>\n",
              "      <td>105792</td>\n",
              "      <td>1852</td>\n",
              "      <td>70592</td>\n",
              "      <td>14</td>\n",
              "      <td>10</td>\n",
              "      <td>7</td>\n",
              "      <td>262144</td>\n",
              "      <td>16736</td>\n",
              "      <td>1096</td>\n",
              "      <td>0</td>\n",
              "      <td>1</td>\n",
              "    </tr>\n",
              "  </tbody>\n",
              "</table>\n",
              "</div>"
            ],
            "text/plain": [
              "                                            FileName  \\\n",
              "0           0124e21d-018c-4ce0-92a3-b9e205a76bc0.dll   \n",
              "1       05c8318f98a5d301d80000009c316005.vertdll.dll   \n",
              "2           06054fba-5619-4a86-a861-ffb0464bef5d.dll   \n",
              "3        075822ac99a5d301660400009c316005.adhapi.dll   \n",
              "4  090607dd9ba5d301ca0900009c316005.SensorsNative...   \n",
              "\n",
              "                            md5Hash  Machine  DebugSize  DebugRVA  \\\n",
              "0  79755c51e413ed3c6be4635fd729a6e1      332          0         0   \n",
              "1  95e19f3657d34a432eada93221b0ea16    34404         84    121728   \n",
              "2  85c32641d77a54e19ba8ea4ab305c791      332          0         0   \n",
              "3  62e3b959d982ef534b66f819fe15f085    34404         84     19904   \n",
              "4  ae38c5f7d313ad0ff3bfb8826476767f    34404         84     97728   \n",
              "\n",
              "   MajorImageVersion  MajorOSVersion  ExportRVA  ExportSize  IatVRA  \\\n",
              "0                  0               4          0           0    8192   \n",
              "1                 10              10     126576        4930       0   \n",
              "2                  0               4          0           0    8192   \n",
              "3                 10              10      21312         252   18160   \n",
              "4                 10              10     105792        1852   70592   \n",
              "\n",
              "   MajorLinkerVersion  MinorLinkerVersion  NumberOfSections  \\\n",
              "0                   8                   0                 3   \n",
              "1                  14                  10                 8   \n",
              "2                   8                   0                 3   \n",
              "3                  14                  10                 6   \n",
              "4                  14                  10                 7   \n",
              "\n",
              "   SizeOfStackReserve  DllCharacteristics  ResourceSize  BitcoinAddresses  \\\n",
              "0             1048576               34112           672                 0   \n",
              "1              262144               16864          1024                 0   \n",
              "2             1048576               34112           672                 0   \n",
              "3              262144               16736          1040                 0   \n",
              "4              262144               16736          1096                 0   \n",
              "\n",
              "   Benign  \n",
              "0       1  \n",
              "1       1  \n",
              "2       1  \n",
              "3       1  \n",
              "4       1  "
            ]
          },
          "execution_count": 4,
          "metadata": {},
          "output_type": "execute_result"
        }
      ],
      "source": [
        "df=pd.read_csv(\"data_file.csv\")\n",
        "df.head()"
      ]
    },
    {
      "cell_type": "code",
      "execution_count": 5,
      "metadata": {
        "colab": {
          "base_uri": "https://localhost:8080/",
          "height": 320
        },
        "id": "o8uHUjFINCh5",
        "outputId": "f43e5a3d-1fd5-41ab-ff7a-047592a52be2"
      },
      "outputs": [
        {
          "data": {
            "text/html": [
              "<div>\n",
              "<style scoped>\n",
              "    .dataframe tbody tr th:only-of-type {\n",
              "        vertical-align: middle;\n",
              "    }\n",
              "\n",
              "    .dataframe tbody tr th {\n",
              "        vertical-align: top;\n",
              "    }\n",
              "\n",
              "    .dataframe thead th {\n",
              "        text-align: right;\n",
              "    }\n",
              "</style>\n",
              "<table border=\"1\" class=\"dataframe\">\n",
              "  <thead>\n",
              "    <tr style=\"text-align: right;\">\n",
              "      <th></th>\n",
              "      <th>Machine</th>\n",
              "      <th>DebugSize</th>\n",
              "      <th>DebugRVA</th>\n",
              "      <th>MajorImageVersion</th>\n",
              "      <th>MajorOSVersion</th>\n",
              "      <th>ExportRVA</th>\n",
              "      <th>ExportSize</th>\n",
              "      <th>IatVRA</th>\n",
              "      <th>MajorLinkerVersion</th>\n",
              "      <th>MinorLinkerVersion</th>\n",
              "      <th>NumberOfSections</th>\n",
              "      <th>SizeOfStackReserve</th>\n",
              "      <th>DllCharacteristics</th>\n",
              "      <th>ResourceSize</th>\n",
              "      <th>BitcoinAddresses</th>\n",
              "      <th>Benign</th>\n",
              "    </tr>\n",
              "  </thead>\n",
              "  <tbody>\n",
              "    <tr>\n",
              "      <th>count</th>\n",
              "      <td>62485.00</td>\n",
              "      <td>62485.00</td>\n",
              "      <td>62485.00</td>\n",
              "      <td>62485.00</td>\n",
              "      <td>62485.00</td>\n",
              "      <td>62485.00</td>\n",
              "      <td>62485.00</td>\n",
              "      <td>62485.00</td>\n",
              "      <td>62485.00</td>\n",
              "      <td>62485.00</td>\n",
              "      <td>62485.00</td>\n",
              "      <td>62485.00</td>\n",
              "      <td>62485.00</td>\n",
              "      <td>62485.00</td>\n",
              "      <td>62485.00</td>\n",
              "      <td>62485.00</td>\n",
              "    </tr>\n",
              "    <tr>\n",
              "      <th>mean</th>\n",
              "      <td>6756.47</td>\n",
              "      <td>25870.48</td>\n",
              "      <td>154161.11</td>\n",
              "      <td>58.79</td>\n",
              "      <td>5.42</td>\n",
              "      <td>895318.63</td>\n",
              "      <td>409462.35</td>\n",
              "      <td>146631.14</td>\n",
              "      <td>9.78</td>\n",
              "      <td>6.61</td>\n",
              "      <td>4.75</td>\n",
              "      <td>875983.04</td>\n",
              "      <td>12966.03</td>\n",
              "      <td>184466.39</td>\n",
              "      <td>0.02</td>\n",
              "      <td>0.43</td>\n",
              "    </tr>\n",
              "    <tr>\n",
              "      <th>std</th>\n",
              "      <td>13345.50</td>\n",
              "      <td>6461396.27</td>\n",
              "      <td>1903142.50</td>\n",
              "      <td>1114.07</td>\n",
              "      <td>2.54</td>\n",
              "      <td>37795267.34</td>\n",
              "      <td>28518203.46</td>\n",
              "      <td>1124629.73</td>\n",
              "      <td>9.05</td>\n",
              "      <td>16.98</td>\n",
              "      <td>2.14</td>\n",
              "      <td>628818.94</td>\n",
              "      <td>15762.73</td>\n",
              "      <td>17326246.56</td>\n",
              "      <td>0.13</td>\n",
              "      <td>0.50</td>\n",
              "    </tr>\n",
              "    <tr>\n",
              "      <th>min</th>\n",
              "      <td>0.00</td>\n",
              "      <td>0.00</td>\n",
              "      <td>0.00</td>\n",
              "      <td>0.00</td>\n",
              "      <td>0.00</td>\n",
              "      <td>0.00</td>\n",
              "      <td>0.00</td>\n",
              "      <td>0.00</td>\n",
              "      <td>0.00</td>\n",
              "      <td>0.00</td>\n",
              "      <td>1.00</td>\n",
              "      <td>0.00</td>\n",
              "      <td>0.00</td>\n",
              "      <td>0.00</td>\n",
              "      <td>0.00</td>\n",
              "      <td>0.00</td>\n",
              "    </tr>\n",
              "    <tr>\n",
              "      <th>25%</th>\n",
              "      <td>332.00</td>\n",
              "      <td>0.00</td>\n",
              "      <td>0.00</td>\n",
              "      <td>0.00</td>\n",
              "      <td>4.00</td>\n",
              "      <td>0.00</td>\n",
              "      <td>0.00</td>\n",
              "      <td>4096.00</td>\n",
              "      <td>6.00</td>\n",
              "      <td>0.00</td>\n",
              "      <td>3.00</td>\n",
              "      <td>262144.00</td>\n",
              "      <td>0.00</td>\n",
              "      <td>1080.00</td>\n",
              "      <td>0.00</td>\n",
              "      <td>0.00</td>\n",
              "    </tr>\n",
              "    <tr>\n",
              "      <th>50%</th>\n",
              "      <td>332.00</td>\n",
              "      <td>0.00</td>\n",
              "      <td>0.00</td>\n",
              "      <td>0.00</td>\n",
              "      <td>5.00</td>\n",
              "      <td>0.00</td>\n",
              "      <td>0.00</td>\n",
              "      <td>8520.00</td>\n",
              "      <td>9.00</td>\n",
              "      <td>0.00</td>\n",
              "      <td>5.00</td>\n",
              "      <td>1048576.00</td>\n",
              "      <td>320.00</td>\n",
              "      <td>2496.00</td>\n",
              "      <td>0.00</td>\n",
              "      <td>0.00</td>\n",
              "    </tr>\n",
              "    <tr>\n",
              "      <th>75%</th>\n",
              "      <td>332.00</td>\n",
              "      <td>28.00</td>\n",
              "      <td>12832.00</td>\n",
              "      <td>6.00</td>\n",
              "      <td>6.00</td>\n",
              "      <td>28752.00</td>\n",
              "      <td>104.00</td>\n",
              "      <td>65536.00</td>\n",
              "      <td>11.00</td>\n",
              "      <td>10.00</td>\n",
              "      <td>6.00</td>\n",
              "      <td>1048576.00</td>\n",
              "      <td>32768.00</td>\n",
              "      <td>23504.00</td>\n",
              "      <td>0.00</td>\n",
              "      <td>1.00</td>\n",
              "    </tr>\n",
              "    <tr>\n",
              "      <th>max</th>\n",
              "      <td>43620.00</td>\n",
              "      <td>1615155235.00</td>\n",
              "      <td>285212672.00</td>\n",
              "      <td>63325.00</td>\n",
              "      <td>260.00</td>\n",
              "      <td>2147483648.00</td>\n",
              "      <td>2415919104.00</td>\n",
              "      <td>66154496.00</td>\n",
              "      <td>255.00</td>\n",
              "      <td>255.00</td>\n",
              "      <td>33.00</td>\n",
              "      <td>16777216.00</td>\n",
              "      <td>58632.00</td>\n",
              "      <td>4294942044.00</td>\n",
              "      <td>1.00</td>\n",
              "      <td>1.00</td>\n",
              "    </tr>\n",
              "  </tbody>\n",
              "</table>\n",
              "</div>"
            ],
            "text/plain": [
              "       Machine     DebugSize     DebugRVA  MajorImageVersion  MajorOSVersion  \\\n",
              "count 62485.00      62485.00     62485.00           62485.00        62485.00   \n",
              "mean   6756.47      25870.48    154161.11              58.79            5.42   \n",
              "std   13345.50    6461396.27   1903142.50            1114.07            2.54   \n",
              "min       0.00          0.00         0.00               0.00            0.00   \n",
              "25%     332.00          0.00         0.00               0.00            4.00   \n",
              "50%     332.00          0.00         0.00               0.00            5.00   \n",
              "75%     332.00         28.00     12832.00               6.00            6.00   \n",
              "max   43620.00 1615155235.00 285212672.00           63325.00          260.00   \n",
              "\n",
              "          ExportRVA    ExportSize      IatVRA  MajorLinkerVersion  \\\n",
              "count      62485.00      62485.00    62485.00            62485.00   \n",
              "mean      895318.63     409462.35   146631.14                9.78   \n",
              "std     37795267.34   28518203.46  1124629.73                9.05   \n",
              "min            0.00          0.00        0.00                0.00   \n",
              "25%            0.00          0.00     4096.00                6.00   \n",
              "50%            0.00          0.00     8520.00                9.00   \n",
              "75%        28752.00        104.00    65536.00               11.00   \n",
              "max   2147483648.00 2415919104.00 66154496.00              255.00   \n",
              "\n",
              "       MinorLinkerVersion  NumberOfSections  SizeOfStackReserve  \\\n",
              "count            62485.00          62485.00            62485.00   \n",
              "mean                 6.61              4.75           875983.04   \n",
              "std                 16.98              2.14           628818.94   \n",
              "min                  0.00              1.00                0.00   \n",
              "25%                  0.00              3.00           262144.00   \n",
              "50%                  0.00              5.00          1048576.00   \n",
              "75%                 10.00              6.00          1048576.00   \n",
              "max                255.00             33.00         16777216.00   \n",
              "\n",
              "       DllCharacteristics  ResourceSize  BitcoinAddresses   Benign  \n",
              "count            62485.00      62485.00          62485.00 62485.00  \n",
              "mean             12966.03     184466.39              0.02     0.43  \n",
              "std              15762.73   17326246.56              0.13     0.50  \n",
              "min                  0.00          0.00              0.00     0.00  \n",
              "25%                  0.00       1080.00              0.00     0.00  \n",
              "50%                320.00       2496.00              0.00     0.00  \n",
              "75%              32768.00      23504.00              0.00     1.00  \n",
              "max              58632.00 4294942044.00              1.00     1.00  "
            ]
          },
          "execution_count": 5,
          "metadata": {},
          "output_type": "execute_result"
        }
      ],
      "source": [
        "df.describe()"
      ]
    },
    {
      "cell_type": "code",
      "execution_count": 6,
      "metadata": {
        "colab": {
          "base_uri": "https://localhost:8080/",
          "height": 648
        },
        "id": "7t8gq0qbNNSj",
        "outputId": "3cfae217-3d23-4d2d-a38e-716049f9df12"
      },
      "outputs": [
        {
          "data": {
            "text/plain": [
              "FileName              0\n",
              "md5Hash               0\n",
              "Machine               0\n",
              "DebugSize             0\n",
              "DebugRVA              0\n",
              "MajorImageVersion     0\n",
              "MajorOSVersion        0\n",
              "ExportRVA             0\n",
              "ExportSize            0\n",
              "IatVRA                0\n",
              "MajorLinkerVersion    0\n",
              "MinorLinkerVersion    0\n",
              "NumberOfSections      0\n",
              "SizeOfStackReserve    0\n",
              "DllCharacteristics    0\n",
              "ResourceSize          0\n",
              "BitcoinAddresses      0\n",
              "Benign                0\n",
              "dtype: int64"
            ]
          },
          "execution_count": 6,
          "metadata": {},
          "output_type": "execute_result"
        }
      ],
      "source": [
        "df.isnull().sum()"
      ]
    },
    {
      "cell_type": "code",
      "execution_count": 7,
      "metadata": {
        "colab": {
          "base_uri": "https://localhost:8080/",
          "height": 178
        },
        "id": "X2x6LvybNQqZ",
        "outputId": "7b07f187-48d6-4e50-b152-d183b0902120"
      },
      "outputs": [
        {
          "data": {
            "text/plain": [
              "Benign\n",
              "0    35367\n",
              "1    27118\n",
              "Name: count, dtype: int64"
            ]
          },
          "execution_count": 7,
          "metadata": {},
          "output_type": "execute_result"
        }
      ],
      "source": [
        "df.Benign.value_counts()"
      ]
    },
    {
      "cell_type": "code",
      "execution_count": 8,
      "metadata": {
        "colab": {
          "base_uri": "https://localhost:8080/"
        },
        "id": "SULHL-wDNatg",
        "outputId": "cc889cc7-c3be-4986-fcf8-d92f6cb057d2"
      },
      "outputs": [
        {
          "name": "stdout",
          "output_type": "stream",
          "text": [
            "<class 'pandas.core.frame.DataFrame'>\n",
            "RangeIndex: 62485 entries, 0 to 62484\n",
            "Data columns (total 18 columns):\n",
            " #   Column              Non-Null Count  Dtype \n",
            "---  ------              --------------  ----- \n",
            " 0   FileName            62485 non-null  object\n",
            " 1   md5Hash             62485 non-null  object\n",
            " 2   Machine             62485 non-null  int64 \n",
            " 3   DebugSize           62485 non-null  int64 \n",
            " 4   DebugRVA            62485 non-null  int64 \n",
            " 5   MajorImageVersion   62485 non-null  int64 \n",
            " 6   MajorOSVersion      62485 non-null  int64 \n",
            " 7   ExportRVA           62485 non-null  int64 \n",
            " 8   ExportSize          62485 non-null  int64 \n",
            " 9   IatVRA              62485 non-null  int64 \n",
            " 10  MajorLinkerVersion  62485 non-null  int64 \n",
            " 11  MinorLinkerVersion  62485 non-null  int64 \n",
            " 12  NumberOfSections    62485 non-null  int64 \n",
            " 13  SizeOfStackReserve  62485 non-null  int64 \n",
            " 14  DllCharacteristics  62485 non-null  int64 \n",
            " 15  ResourceSize        62485 non-null  int64 \n",
            " 16  BitcoinAddresses    62485 non-null  int64 \n",
            " 17  Benign              62485 non-null  int64 \n",
            "dtypes: int64(16), object(2)\n",
            "memory usage: 8.6+ MB\n"
          ]
        }
      ],
      "source": [
        "df.info()"
      ]
    },
    {
      "cell_type": "code",
      "execution_count": 9,
      "metadata": {
        "colab": {
          "base_uri": "https://localhost:8080/",
          "height": 428
        },
        "id": "zNIQa7aONeVs",
        "outputId": "b181a628-c02f-4b33-d59c-c493a6b816cf"
      },
      "outputs": [
        {
          "data": {
            "image/png": "[encoded data removed]",
            "text/plain": [
              "<Figure size 640x480 with 1 Axes>"
            ]
          },
          "metadata": {},
          "output_type": "display_data"
        }
      ],
      "source": [
        "plt.pie(df.Benign.value_counts().values.tolist(), labels=['Ransomware','Safe'], autopct='%.2f%%')\n",
        "plt.legend()\n",
        "plt.title(f\"Distribution of Labelled Data, total - {len(df)}\")\n",
        "plt.show()"
      ]
    },
    {
      "cell_type": "code",
      "execution_count": 10,
      "metadata": {
        "colab": {
          "base_uri": "https://localhost:8080/",
          "height": 226
        },
        "id": "BSxluVSbNjlF",
        "outputId": "6681c4cb-ffae-4606-98b2-450e1c9b0060"
      },
      "outputs": [
        {
          "data": {
            "text/html": [
              "<div>\n",
              "<style scoped>\n",
              "    .dataframe tbody tr th:only-of-type {\n",
              "        vertical-align: middle;\n",
              "    }\n",
              "\n",
              "    .dataframe tbody tr th {\n",
              "        vertical-align: top;\n",
              "    }\n",
              "\n",
              "    .dataframe thead th {\n",
              "        text-align: right;\n",
              "    }\n",
              "</style>\n",
              "<table border=\"1\" class=\"dataframe\">\n",
              "  <thead>\n",
              "    <tr style=\"text-align: right;\">\n",
              "      <th></th>\n",
              "      <th>FileName</th>\n",
              "      <th>md5Hash</th>\n",
              "      <th>Machine</th>\n",
              "      <th>DebugSize</th>\n",
              "      <th>DebugRVA</th>\n",
              "      <th>MajorImageVersion</th>\n",
              "      <th>MajorOSVersion</th>\n",
              "      <th>ExportRVA</th>\n",
              "      <th>ExportSize</th>\n",
              "      <th>IatVRA</th>\n",
              "      <th>MajorLinkerVersion</th>\n",
              "      <th>MinorLinkerVersion</th>\n",
              "      <th>NumberOfSections</th>\n",
              "      <th>SizeOfStackReserve</th>\n",
              "      <th>DllCharacteristics</th>\n",
              "      <th>ResourceSize</th>\n",
              "      <th>BitcoinAddresses</th>\n",
              "      <th>Benign</th>\n",
              "    </tr>\n",
              "  </thead>\n",
              "  <tbody>\n",
              "    <tr>\n",
              "      <th>0</th>\n",
              "      <td>0124e21d-018c-4ce0-92a3-b9e205a76bc0.dll</td>\n",
              "      <td>79755c51e413ed3c6be4635fd729a6e1</td>\n",
              "      <td>332</td>\n",
              "      <td>0</td>\n",
              "      <td>0</td>\n",
              "      <td>0</td>\n",
              "      <td>4</td>\n",
              "      <td>0</td>\n",
              "      <td>0</td>\n",
              "      <td>8192</td>\n",
              "      <td>8</td>\n",
              "      <td>0</td>\n",
              "      <td>3</td>\n",
              "      <td>1048576</td>\n",
              "      <td>34112</td>\n",
              "      <td>672</td>\n",
              "      <td>0</td>\n",
              "      <td>1</td>\n",
              "    </tr>\n",
              "    <tr>\n",
              "      <th>1</th>\n",
              "      <td>05c8318f98a5d301d80000009c316005.vertdll.dll</td>\n",
              "      <td>95e19f3657d34a432eada93221b0ea16</td>\n",
              "      <td>34404</td>\n",
              "      <td>84</td>\n",
              "      <td>121728</td>\n",
              "      <td>10</td>\n",
              "      <td>10</td>\n",
              "      <td>126576</td>\n",
              "      <td>4930</td>\n",
              "      <td>0</td>\n",
              "      <td>14</td>\n",
              "      <td>10</td>\n",
              "      <td>8</td>\n",
              "      <td>262144</td>\n",
              "      <td>16864</td>\n",
              "      <td>1024</td>\n",
              "      <td>0</td>\n",
              "      <td>1</td>\n",
              "    </tr>\n",
              "    <tr>\n",
              "      <th>2</th>\n",
              "      <td>06054fba-5619-4a86-a861-ffb0464bef5d.dll</td>\n",
              "      <td>85c32641d77a54e19ba8ea4ab305c791</td>\n",
              "      <td>332</td>\n",
              "      <td>0</td>\n",
              "      <td>0</td>\n",
              "      <td>0</td>\n",
              "      <td>4</td>\n",
              "      <td>0</td>\n",
              "      <td>0</td>\n",
              "      <td>8192</td>\n",
              "      <td>8</td>\n",
              "      <td>0</td>\n",
              "      <td>3</td>\n",
              "      <td>1048576</td>\n",
              "      <td>34112</td>\n",
              "      <td>672</td>\n",
              "      <td>0</td>\n",
              "      <td>1</td>\n",
              "    </tr>\n",
              "    <tr>\n",
              "      <th>3</th>\n",
              "      <td>075822ac99a5d301660400009c316005.adhapi.dll</td>\n",
              "      <td>62e3b959d982ef534b66f819fe15f085</td>\n",
              "      <td>34404</td>\n",
              "      <td>84</td>\n",
              "      <td>19904</td>\n",
              "      <td>10</td>\n",
              "      <td>10</td>\n",
              "      <td>21312</td>\n",
              "      <td>252</td>\n",
              "      <td>18160</td>\n",
              "      <td>14</td>\n",
              "      <td>10</td>\n",
              "      <td>6</td>\n",
              "      <td>262144</td>\n",
              "      <td>16736</td>\n",
              "      <td>1040</td>\n",
              "      <td>0</td>\n",
              "      <td>1</td>\n",
              "    </tr>\n",
              "    <tr>\n",
              "      <th>4</th>\n",
              "      <td>090607dd9ba5d301ca0900009c316005.SensorsNative...</td>\n",
              "      <td>ae38c5f7d313ad0ff3bfb8826476767f</td>\n",
              "      <td>34404</td>\n",
              "      <td>84</td>\n",
              "      <td>97728</td>\n",
              "      <td>10</td>\n",
              "      <td>10</td>\n",
              "      <td>105792</td>\n",
              "      <td>1852</td>\n",
              "      <td>70592</td>\n",
              "      <td>14</td>\n",
              "      <td>10</td>\n",
              "      <td>7</td>\n",
              "      <td>262144</td>\n",
              "      <td>16736</td>\n",
              "      <td>1096</td>\n",
              "      <td>0</td>\n",
              "      <td>1</td>\n",
              "    </tr>\n",
              "  </tbody>\n",
              "</table>\n",
              "</div>"
            ],
            "text/plain": [
              "                                            FileName  \\\n",
              "0           0124e21d-018c-4ce0-92a3-b9e205a76bc0.dll   \n",
              "1       05c8318f98a5d301d80000009c316005.vertdll.dll   \n",
              "2           06054fba-5619-4a86-a861-ffb0464bef5d.dll   \n",
              "3        075822ac99a5d301660400009c316005.adhapi.dll   \n",
              "4  090607dd9ba5d301ca0900009c316005.SensorsNative...   \n",
              "\n",
              "                            md5Hash  Machine  DebugSize  DebugRVA  \\\n",
              "0  79755c51e413ed3c6be4635fd729a6e1      332          0         0   \n",
              "1  95e19f3657d34a432eada93221b0ea16    34404         84    121728   \n",
              "2  85c32641d77a54e19ba8ea4ab305c791      332          0         0   \n",
              "3  62e3b959d982ef534b66f819fe15f085    34404         84     19904   \n",
              "4  ae38c5f7d313ad0ff3bfb8826476767f    34404         84     97728   \n",
              "\n",
              "   MajorImageVersion  MajorOSVersion  ExportRVA  ExportSize  IatVRA  \\\n",
              "0                  0               4          0           0    8192   \n",
              "1                 10              10     126576        4930       0   \n",
              "2                  0               4          0           0    8192   \n",
              "3                 10              10      21312         252   18160   \n",
              "4                 10              10     105792        1852   70592   \n",
              "\n",
              "   MajorLinkerVersion  MinorLinkerVersion  NumberOfSections  \\\n",
              "0                   8                   0                 3   \n",
              "1                  14                  10                 8   \n",
              "2                   8                   0                 3   \n",
              "3                  14                  10                 6   \n",
              "4                  14                  10                 7   \n",
              "\n",
              "   SizeOfStackReserve  DllCharacteristics  ResourceSize  BitcoinAddresses  \\\n",
              "0             1048576               34112           672                 0   \n",
              "1              262144               16864          1024                 0   \n",
              "2             1048576               34112           672                 0   \n",
              "3              262144               16736          1040                 0   \n",
              "4              262144               16736          1096                 0   \n",
              "\n",
              "   Benign  \n",
              "0       1  \n",
              "1       1  \n",
              "2       1  \n",
              "3       1  \n",
              "4       1  "
            ]
          },
          "execution_count": 10,
          "metadata": {},
          "output_type": "execute_result"
        }
      ],
      "source": [
        "df.head()"
      ]
    },
    {
      "cell_type": "code",
      "execution_count": 11,
      "metadata": {
        "colab": {
          "base_uri": "https://localhost:8080/"
        },
        "id": "0Fz6Q7klNn14",
        "outputId": "ba0ba59c-705b-4af0-bd9a-2a82e9a5d629"
      },
      "outputs": [
        {
          "data": {
            "text/plain": [
              "62485"
            ]
          },
          "execution_count": 11,
          "metadata": {},
          "output_type": "execute_result"
        }
      ],
      "source": [
        "df.md5Hash.nunique()"
      ]
    },
    {
      "cell_type": "code",
      "execution_count": 12,
      "metadata": {
        "colab": {
          "base_uri": "https://localhost:8080/"
        },
        "id": "Y60jar7GNxT6",
        "outputId": "fafab3e9-5952-439c-fa26-a22ea6e53583"
      },
      "outputs": [
        {
          "data": {
            "text/plain": [
              "0"
            ]
          },
          "execution_count": 12,
          "metadata": {},
          "output_type": "execute_result"
        }
      ],
      "source": [
        "df.md5Hash.isnull().sum()"
      ]
    },
    {
      "cell_type": "code",
      "execution_count": 13,
      "metadata": {
        "colab": {
          "base_uri": "https://localhost:8080/",
          "height": 226
        },
        "id": "JFSxm_5NN03w",
        "outputId": "19614ed2-78b8-4520-ae9d-dcd0287ee88d"
      },
      "outputs": [
        {
          "data": {
            "text/html": [
              "<div>\n",
              "<style scoped>\n",
              "    .dataframe tbody tr th:only-of-type {\n",
              "        vertical-align: middle;\n",
              "    }\n",
              "\n",
              "    .dataframe tbody tr th {\n",
              "        vertical-align: top;\n",
              "    }\n",
              "\n",
              "    .dataframe thead th {\n",
              "        text-align: right;\n",
              "    }\n",
              "</style>\n",
              "<table border=\"1\" class=\"dataframe\">\n",
              "  <thead>\n",
              "    <tr style=\"text-align: right;\">\n",
              "      <th></th>\n",
              "      <th>FileName</th>\n",
              "      <th>md5Hash</th>\n",
              "      <th>Machine</th>\n",
              "      <th>DebugSize</th>\n",
              "      <th>DebugRVA</th>\n",
              "      <th>MajorImageVersion</th>\n",
              "      <th>MajorOSVersion</th>\n",
              "      <th>ExportRVA</th>\n",
              "      <th>ExportSize</th>\n",
              "      <th>IatVRA</th>\n",
              "      <th>MajorLinkerVersion</th>\n",
              "      <th>MinorLinkerVersion</th>\n",
              "      <th>NumberOfSections</th>\n",
              "      <th>SizeOfStackReserve</th>\n",
              "      <th>DllCharacteristics</th>\n",
              "      <th>ResourceSize</th>\n",
              "      <th>BitcoinAddresses</th>\n",
              "      <th>Benign</th>\n",
              "    </tr>\n",
              "  </thead>\n",
              "  <tbody>\n",
              "    <tr>\n",
              "      <th>0</th>\n",
              "      <td>0124e21d-018c-4ce0-92a3-b9e205a76bc0.dll</td>\n",
              "      <td>79755c51e413ed3c6be4635fd729a6e1</td>\n",
              "      <td>332</td>\n",
              "      <td>0</td>\n",
              "      <td>0</td>\n",
              "      <td>0</td>\n",
              "      <td>4</td>\n",
              "      <td>0</td>\n",
              "      <td>0</td>\n",
              "      <td>8192</td>\n",
              "      <td>8</td>\n",
              "      <td>0</td>\n",
              "      <td>3</td>\n",
              "      <td>1048576</td>\n",
              "      <td>34112</td>\n",
              "      <td>672</td>\n",
              "      <td>0</td>\n",
              "      <td>1</td>\n",
              "    </tr>\n",
              "    <tr>\n",
              "      <th>1</th>\n",
              "      <td>05c8318f98a5d301d80000009c316005.vertdll.dll</td>\n",
              "      <td>95e19f3657d34a432eada93221b0ea16</td>\n",
              "      <td>34404</td>\n",
              "      <td>84</td>\n",
              "      <td>121728</td>\n",
              "      <td>10</td>\n",
              "      <td>10</td>\n",
              "      <td>126576</td>\n",
              "      <td>4930</td>\n",
              "      <td>0</td>\n",
              "      <td>14</td>\n",
              "      <td>10</td>\n",
              "      <td>8</td>\n",
              "      <td>262144</td>\n",
              "      <td>16864</td>\n",
              "      <td>1024</td>\n",
              "      <td>0</td>\n",
              "      <td>1</td>\n",
              "    </tr>\n",
              "    <tr>\n",
              "      <th>2</th>\n",
              "      <td>06054fba-5619-4a86-a861-ffb0464bef5d.dll</td>\n",
              "      <td>85c32641d77a54e19ba8ea4ab305c791</td>\n",
              "      <td>332</td>\n",
              "      <td>0</td>\n",
              "      <td>0</td>\n",
              "      <td>0</td>\n",
              "      <td>4</td>\n",
              "      <td>0</td>\n",
              "      <td>0</td>\n",
              "      <td>8192</td>\n",
              "      <td>8</td>\n",
              "      <td>0</td>\n",
              "      <td>3</td>\n",
              "      <td>1048576</td>\n",
              "      <td>34112</td>\n",
              "      <td>672</td>\n",
              "      <td>0</td>\n",
              "      <td>1</td>\n",
              "    </tr>\n",
              "    <tr>\n",
              "      <th>3</th>\n",
              "      <td>075822ac99a5d301660400009c316005.adhapi.dll</td>\n",
              "      <td>62e3b959d982ef534b66f819fe15f085</td>\n",
              "      <td>34404</td>\n",
              "      <td>84</td>\n",
              "      <td>19904</td>\n",
              "      <td>10</td>\n",
              "      <td>10</td>\n",
              "      <td>21312</td>\n",
              "      <td>252</td>\n",
              "      <td>18160</td>\n",
              "      <td>14</td>\n",
              "      <td>10</td>\n",
              "      <td>6</td>\n",
              "      <td>262144</td>\n",
              "      <td>16736</td>\n",
              "      <td>1040</td>\n",
              "      <td>0</td>\n",
              "      <td>1</td>\n",
              "    </tr>\n",
              "    <tr>\n",
              "      <th>4</th>\n",
              "      <td>090607dd9ba5d301ca0900009c316005.SensorsNative...</td>\n",
              "      <td>ae38c5f7d313ad0ff3bfb8826476767f</td>\n",
              "      <td>34404</td>\n",
              "      <td>84</td>\n",
              "      <td>97728</td>\n",
              "      <td>10</td>\n",
              "      <td>10</td>\n",
              "      <td>105792</td>\n",
              "      <td>1852</td>\n",
              "      <td>70592</td>\n",
              "      <td>14</td>\n",
              "      <td>10</td>\n",
              "      <td>7</td>\n",
              "      <td>262144</td>\n",
              "      <td>16736</td>\n",
              "      <td>1096</td>\n",
              "      <td>0</td>\n",
              "      <td>1</td>\n",
              "    </tr>\n",
              "  </tbody>\n",
              "</table>\n",
              "</div>"
            ],
            "text/plain": [
              "                                            FileName  \\\n",
              "0           0124e21d-018c-4ce0-92a3-b9e205a76bc0.dll   \n",
              "1       05c8318f98a5d301d80000009c316005.vertdll.dll   \n",
              "2           06054fba-5619-4a86-a861-ffb0464bef5d.dll   \n",
              "3        075822ac99a5d301660400009c316005.adhapi.dll   \n",
              "4  090607dd9ba5d301ca0900009c316005.SensorsNative...   \n",
              "\n",
              "                            md5Hash  Machine  DebugSize  DebugRVA  \\\n",
              "0  79755c51e413ed3c6be4635fd729a6e1      332          0         0   \n",
              "1  95e19f3657d34a432eada93221b0ea16    34404         84    121728   \n",
              "2  85c32641d77a54e19ba8ea4ab305c791      332          0         0   \n",
              "3  62e3b959d982ef534b66f819fe15f085    34404         84     19904   \n",
              "4  ae38c5f7d313ad0ff3bfb8826476767f    34404         84     97728   \n",
              "\n",
              "   MajorImageVersion  MajorOSVersion  ExportRVA  ExportSize  IatVRA  \\\n",
              "0                  0               4          0           0    8192   \n",
              "1                 10              10     126576        4930       0   \n",
              "2                  0               4          0           0    8192   \n",
              "3                 10              10      21312         252   18160   \n",
              "4                 10              10     105792        1852   70592   \n",
              "\n",
              "   MajorLinkerVersion  MinorLinkerVersion  NumberOfSections  \\\n",
              "0                   8                   0                 3   \n",
              "1                  14                  10                 8   \n",
              "2                   8                   0                 3   \n",
              "3                  14                  10                 6   \n",
              "4                  14                  10                 7   \n",
              "\n",
              "   SizeOfStackReserve  DllCharacteristics  ResourceSize  BitcoinAddresses  \\\n",
              "0             1048576               34112           672                 0   \n",
              "1              262144               16864          1024                 0   \n",
              "2             1048576               34112           672                 0   \n",
              "3              262144               16736          1040                 0   \n",
              "4              262144               16736          1096                 0   \n",
              "\n",
              "   Benign  \n",
              "0       1  \n",
              "1       1  \n",
              "2       1  \n",
              "3       1  \n",
              "4       1  "
            ]
          },
          "execution_count": 13,
          "metadata": {},
          "output_type": "execute_result"
        }
      ],
      "source": [
        "df.head()"
      ]
    },
    {
      "cell_type": "code",
      "execution_count": 14,
      "metadata": {
        "colab": {
          "base_uri": "https://localhost:8080/",
          "height": 560
        },
        "id": "w3TeXsVhN94a",
        "outputId": "e803499a-ab9b-48a4-a5c1-812b6d8d9f62"
      },
      "outputs": [
        {
          "data": {
            "image/png": "[encoded data removed]",
            "text/plain": [
              "<Figure size 640x480 with 2 Axes>"
            ]
          },
          "metadata": {},
          "output_type": "display_data"
        }
      ],
      "source": [
        "sns.heatmap(df.drop(['FileName','md5Hash','Benign'], axis=1).corr())\n",
        "plt.show()"
      ]
    },
    {
      "cell_type": "code",
      "execution_count": 15,
      "metadata": {
        "colab": {
          "base_uri": "https://localhost:8080/"
        },
        "id": "F2HowT9xODUp",
        "outputId": "52a95139-4bca-4ea3-fe0e-b5be60906092"
      },
      "outputs": [
        {
          "name": "stdout",
          "output_type": "stream",
          "text": [
            "[]\n"
          ]
        }
      ],
      "source": [
        "corr_matrix = df.drop(['FileName','md5Hash','Benign'], axis=1).corr().abs()\n",
        "\n",
        "upper = corr_matrix.where(np.triu(np.ones(corr_matrix.shape), k=1).astype(bool))\n",
        "\n",
        "to_drop = [column for column in upper.columns if any(upper[column] > 0.95)]\n",
        "\n",
        "print(to_drop)"
      ]
    },
    {
      "cell_type": "code",
      "execution_count": 16,
      "metadata": {
        "id": "4FU_e3SgONry"
      },
      "outputs": [],
      "source": [
        "df.drop(to_drop, axis=1, inplace=True)"
      ]
    },
    {
      "cell_type": "code",
      "execution_count": 17,
      "metadata": {
        "colab": {
          "base_uri": "https://localhost:8080/",
          "height": 577
        },
        "id": "LoH4PyMpORY0",
        "outputId": "459a971d-a85b-45a0-9b96-ee2d6b8ce55b"
      },
      "outputs": [
        {
          "data": {
            "text/plain": [
              "<Axes: >"
            ]
          },
          "execution_count": 17,
          "metadata": {},
          "output_type": "execute_result"
        },
        {
          "data": {
            "image/png": "[encoded data removed]",
            "text/plain": [
              "<Figure size 640x480 with 2 Axes>"
            ]
          },
          "metadata": {},
          "output_type": "display_data"
        }
      ],
      "source": [
        "sns.heatmap(df.drop(['FileName','md5Hash','Benign'], axis=1).corr())"
      ]
    },
    {
      "cell_type": "code",
      "execution_count": 18,
      "metadata": {
        "id": "_S2tVlaEOXY5"
      },
      "outputs": [],
      "source": [
        "def iv_woe(data, target, bins=10, show_woe=False):\n",
        "    #Empty Dataframe\n",
        "    newDF,woeDF = pd.DataFrame(), pd.DataFrame()\n",
        "\n",
        "    #Extract Column Names\n",
        "    cols = data.columns\n",
        "\n",
        "    #Run WOE and IV on all the independent variables\n",
        "    for ivars in cols[~cols.isin([target])]:\n",
        "        if (data[ivars].dtype.kind in 'bifc') and (len(np.unique(data[ivars]))>10):\n",
        "            binned_x = pd.qcut(data[ivars], bins,  duplicates='drop')\n",
        "            d0 = pd.DataFrame({'x': binned_x, 'y': data[target]})\n",
        "        else:\n",
        "            d0 = pd.DataFrame({'x': data[ivars], 'y': data[target]})\n",
        "        d = d0.groupby(\"x\", as_index=False).agg({\"y\": [\"count\", \"sum\"]})\n",
        "        d.columns = ['Cutoff', 'N', 'Events']\n",
        "        d['% of Events'] = np.maximum(d['Events'], 0.5) / d['Events'].sum()\n",
        "        d['Non-Events'] = d['N'] - d['Events']\n",
        "        d['% of Non-Events'] = np.maximum(d['Non-Events'], 0.5) / d['Non-Events'].sum()\n",
        "        d['WoE'] = np.log(d['% of Events']/d['% of Non-Events'])\n",
        "        d['IV'] = d['WoE'] * (d['% of Events'] - d['% of Non-Events'])\n",
        "        d.insert(loc=0, column='Variable', value=ivars)\n",
        "        print(\"Information value of \" + ivars + \" is \" + str(round(d['IV'].sum(),6)))\n",
        "        temp =pd.DataFrame({\"Variable\" : [ivars], \"IV\" : [d['IV'].sum()]}, columns = [\"Variable\", \"IV\"])\n",
        "        newDF=pd.concat([newDF,temp], axis=0)\n",
        "        woeDF=pd.concat([woeDF,d], axis=0)\n",
        "\n",
        "        #Show WOE Table\n",
        "        if show_woe == True:\n",
        "            print(d)\n",
        "    return newDF, woeDF"
      ]
    },
    {
      "cell_type": "code",
      "execution_count": 19,
      "metadata": {
        "colab": {
          "base_uri": "https://localhost:8080/"
        },
        "id": "Sm7L2NXXO2a3",
        "outputId": "c4309dcc-7aa5-405d-fba0-80d8d24c07fc"
      },
      "outputs": [
        {
          "data": {
            "text/plain": [
              "dtype('int64')"
            ]
          },
          "execution_count": 19,
          "metadata": {},
          "output_type": "execute_result"
        }
      ],
      "source": [
        "df.Benign.dtypes"
      ]
    },
    {
      "cell_type": "code",
      "execution_count": 20,
      "metadata": {
        "colab": {
          "base_uri": "https://localhost:8080/"
        },
        "id": "0Lsz07dnO5ti",
        "outputId": "8e30359f-1479-497a-c0f1-4258269b787a"
      },
      "outputs": [
        {
          "name": "stdout",
          "output_type": "stream",
          "text": [
            "Information value of Machine is 3.836388\n",
            "Information value of DebugSize is 3.631785\n",
            "Information value of DebugRVA is 2.018239\n",
            "Information value of MajorImageVersion is 1.000609\n",
            "Information value of MajorOSVersion is 2.320144\n",
            "Information value of ExportRVA is 0.578911\n",
            "Information value of ExportSize is 0.941623\n",
            "Information value of IatVRA is 0.710278\n",
            "Information value of MajorLinkerVersion is 3.899621\n",
            "Information value of MinorLinkerVersion is 1.088247\n",
            "Information value of NumberOfSections is 0.291686\n",
            "Information value of SizeOfStackReserve is 1.280688\n",
            "Information value of DllCharacteristics is 3.279573\n",
            "Information value of ResourceSize is 2.083902\n",
            "Information value of BitcoinAddresses is 0.01225\n"
          ]
        }
      ],
      "source": [
        "iv, woe = iv_woe(df.drop(['FileName','md5Hash'],axis=1), 'Benign')"
      ]
    },
    {
      "cell_type": "code",
      "execution_count": 21,
      "metadata": {
        "colab": {
          "base_uri": "https://localhost:8080/",
          "height": 519
        },
        "id": "vgnd1yN1O8iW",
        "outputId": "f60d41e4-e680-457f-f94f-4556ad6897d8"
      },
      "outputs": [
        {
          "data": {
            "text/html": [
              "<div>\n",
              "<style scoped>\n",
              "    .dataframe tbody tr th:only-of-type {\n",
              "        vertical-align: middle;\n",
              "    }\n",
              "\n",
              "    .dataframe tbody tr th {\n",
              "        vertical-align: top;\n",
              "    }\n",
              "\n",
              "    .dataframe thead th {\n",
              "        text-align: right;\n",
              "    }\n",
              "</style>\n",
              "<table border=\"1\" class=\"dataframe\">\n",
              "  <thead>\n",
              "    <tr style=\"text-align: right;\">\n",
              "      <th></th>\n",
              "      <th>Variable</th>\n",
              "      <th>IV</th>\n",
              "    </tr>\n",
              "  </thead>\n",
              "  <tbody>\n",
              "    <tr>\n",
              "      <th>0</th>\n",
              "      <td>MajorLinkerVersion</td>\n",
              "      <td>3.90</td>\n",
              "    </tr>\n",
              "    <tr>\n",
              "      <th>0</th>\n",
              "      <td>Machine</td>\n",
              "      <td>3.84</td>\n",
              "    </tr>\n",
              "    <tr>\n",
              "      <th>0</th>\n",
              "      <td>DebugSize</td>\n",
              "      <td>3.63</td>\n",
              "    </tr>\n",
              "    <tr>\n",
              "      <th>0</th>\n",
              "      <td>DllCharacteristics</td>\n",
              "      <td>3.28</td>\n",
              "    </tr>\n",
              "    <tr>\n",
              "      <th>0</th>\n",
              "      <td>MajorOSVersion</td>\n",
              "      <td>2.32</td>\n",
              "    </tr>\n",
              "    <tr>\n",
              "      <th>0</th>\n",
              "      <td>ResourceSize</td>\n",
              "      <td>2.08</td>\n",
              "    </tr>\n",
              "    <tr>\n",
              "      <th>0</th>\n",
              "      <td>DebugRVA</td>\n",
              "      <td>2.02</td>\n",
              "    </tr>\n",
              "    <tr>\n",
              "      <th>0</th>\n",
              "      <td>SizeOfStackReserve</td>\n",
              "      <td>1.28</td>\n",
              "    </tr>\n",
              "    <tr>\n",
              "      <th>0</th>\n",
              "      <td>MinorLinkerVersion</td>\n",
              "      <td>1.09</td>\n",
              "    </tr>\n",
              "    <tr>\n",
              "      <th>0</th>\n",
              "      <td>MajorImageVersion</td>\n",
              "      <td>1.00</td>\n",
              "    </tr>\n",
              "    <tr>\n",
              "      <th>0</th>\n",
              "      <td>ExportSize</td>\n",
              "      <td>0.94</td>\n",
              "    </tr>\n",
              "    <tr>\n",
              "      <th>0</th>\n",
              "      <td>IatVRA</td>\n",
              "      <td>0.71</td>\n",
              "    </tr>\n",
              "    <tr>\n",
              "      <th>0</th>\n",
              "      <td>ExportRVA</td>\n",
              "      <td>0.58</td>\n",
              "    </tr>\n",
              "    <tr>\n",
              "      <th>0</th>\n",
              "      <td>NumberOfSections</td>\n",
              "      <td>0.29</td>\n",
              "    </tr>\n",
              "    <tr>\n",
              "      <th>0</th>\n",
              "      <td>BitcoinAddresses</td>\n",
              "      <td>0.01</td>\n",
              "    </tr>\n",
              "  </tbody>\n",
              "</table>\n",
              "</div>"
            ],
            "text/plain": [
              "             Variable   IV\n",
              "0  MajorLinkerVersion 3.90\n",
              "0             Machine 3.84\n",
              "0           DebugSize 3.63\n",
              "0  DllCharacteristics 3.28\n",
              "0      MajorOSVersion 2.32\n",
              "0        ResourceSize 2.08\n",
              "0            DebugRVA 2.02\n",
              "0  SizeOfStackReserve 1.28\n",
              "0  MinorLinkerVersion 1.09\n",
              "0   MajorImageVersion 1.00\n",
              "0          ExportSize 0.94\n",
              "0              IatVRA 0.71\n",
              "0           ExportRVA 0.58\n",
              "0    NumberOfSections 0.29\n",
              "0    BitcoinAddresses 0.01"
            ]
          },
          "execution_count": 21,
          "metadata": {},
          "output_type": "execute_result"
        }
      ],
      "source": [
        "iv.sort_values(by = 'IV', ascending=False)"
      ]
    },
    {
      "cell_type": "code",
      "execution_count": 22,
      "metadata": {
        "colab": {
          "base_uri": "https://localhost:8080/"
        },
        "id": "o522dQDaPGhx",
        "outputId": "8e1fa862-7862-4176-dee9-52e3495b59ae"
      },
      "outputs": [
        {
          "name": "stdout",
          "output_type": "stream",
          "text": [
            "5\n"
          ]
        }
      ],
      "source": [
        "thresh = 1\n",
        "res = len(iv)-len(iv[iv['IV']>thresh])\n",
        "print(res)"
      ]
    },
    {
      "cell_type": "code",
      "execution_count": 23,
      "metadata": {
        "colab": {
          "base_uri": "https://localhost:8080/"
        },
        "id": "7sTkoYhjPPIJ",
        "outputId": "83e83170-e002-4cd8-b3df-ffffb2f9c36b"
      },
      "outputs": [
        {
          "name": "stdout",
          "output_type": "stream",
          "text": [
            "['MajorLinkerVersion', 'Machine', 'DebugSize', 'DllCharacteristics', 'MajorOSVersion'] \n",
            "\n",
            "Total number of features-\n",
            " 5\n"
          ]
        }
      ],
      "source": [
        "features = iv.sort_values(by = 'IV', ascending=False)['Variable'][:res].values.tolist()\n",
        "print(features,'\\n')\n",
        "print('Total number of features-\\n',len(features))"
      ]
    },
    {
      "cell_type": "code",
      "execution_count": 24,
      "metadata": {
        "id": "hpq_--JCQKt3"
      },
      "outputs": [],
      "source": [
        "X = df[features]\n",
        "y = df['Benign']"
      ]
    },
    {
      "cell_type": "code",
      "execution_count": 25,
      "metadata": {
        "id": "Lxvhzy-aQLax"
      },
      "outputs": [],
      "source": [
        "randomseed = 42\n",
        "X_train, X_test, y_train, y_test = train_test_split(X, y, train_size=0.7, random_state=randomseed)"
      ]
    },
    {
      "cell_type": "code",
      "execution_count": 26,
      "metadata": {
        "colab": {
          "base_uri": "https://localhost:8080/"
        },
        "id": "oqogAFH7QSXs",
        "outputId": "e5231a73-5c99-4338-d3ee-6136a4fbb30f"
      },
      "outputs": [
        {
          "name": "stdout",
          "output_type": "stream",
          "text": [
            "62485\n",
            "Training labels shape: (43739,)\n",
            "Test labels shape: (18746,)\n",
            "Training features shape: (43739, 5)\n",
            "Test features shape: (18746, 5)\n"
          ]
        }
      ],
      "source": [
        "print(X_test.shape[0] + X_train.shape[0])\n",
        "print('Training labels shape:', y_train.shape)\n",
        "print('Test labels shape:', y_test.shape)\n",
        "print('Training features shape:', X_train.shape)\n",
        "print('Test features shape:', X_test.shape)"
      ]
    },
    {
      "cell_type": "code",
      "execution_count": 27,
      "metadata": {
        "id": "HHrupdIHV-JU"
      },
      "outputs": [],
      "source": [
        "from sklearn.ensemble import RandomForestClassifier\n",
        "from sklearn.svm import SVC\n",
        "from sklearn.neighbors import KNeighborsClassifier\n",
        "from sklearn.metrics import accuracy_score"
      ]
    },
    {
      "cell_type": "code",
      "execution_count": 28,
      "metadata": {
        "colab": {
          "base_uri": "https://localhost:8080/"
        },
        "id": "n-uInDHV31IL",
        "outputId": "a4efda69-48b5-4408-fc7f-ff0014b703fa"
      },
      "outputs": [
        {
          "name": "stdout",
          "output_type": "stream",
          "text": [
            "Random Forest Accuracy: 0.986\n",
            "Support Vector Machine Accuracy: 0.570\n",
            "K-Nearest Neighbors Accuracy: 0.985\n",
            "\n",
            "Best Model: Random Forest with Accuracy: 0.986\n"
          ]
        }
      ],
      "source": [
        "models = {\n",
        "    \"Random Forest\": RandomForestClassifier(random_state=randomseed),\n",
        "    \"Support Vector Machine\": SVC(random_state=randomseed),\n",
        "    \"K-Nearest Neighbors\": KNeighborsClassifier()\n",
        "}\n",
        "\n",
        "accuracies = {}\n",
        "\n",
        "\n",
        "for name, model in models.items():\n",
        "    model.fit(X_train, y_train)\n",
        "    y_pred = model.predict(X_test)\n",
        "    accuracy = accuracy_score(y_test, y_pred)\n",
        "    accuracies[name] = accuracy\n",
        "    print(f\"{name} Accuracy: {accuracy:.3f}\")\n",
        "\n",
        "best_model = max(accuracies, key=accuracies.get)\n",
        "print(f\"\\nBest Model: {best_model} with Accuracy: {accuracies[best_model]:.3f}\")"
      ]
    },
    {
      "cell_type": "code",
      "execution_count": 29,
      "metadata": {
        "colab": {
          "base_uri": "https://localhost:8080/",
          "height": 80
        },
        "id": "3Bw1bTBL7tif",
        "outputId": "bcf9cf7c-f719-4e78-c6f9-10701ada933b"
      },
      "outputs": [
        {
          "data": {
            "text/html": [
              "<style>#sk-container-id-1 {\n",
              "  /* Definition of color scheme common for light and dark mode */\n",
              "  --sklearn-color-text: #000;\n",
              "  --sklearn-color-text-muted: #666;\n",
              "  --sklearn-color-line: gray;\n",
              "  /* Definition of color scheme for unfitted estimators */\n",
              "  --sklearn-color-unfitted-level-0: #fff5e6;\n",
              "  --sklearn-color-unfitted-level-1: #f6e4d2;\n",
              "  --sklearn-color-unfitted-level-2: #ffe0b3;\n",
              "  --sklearn-color-unfitted-level-3: chocolate;\n",
              "  /* Definition of color scheme for fitted estimators */\n",
              "  --sklearn-color-fitted-level-0: #f0f8ff;\n",
              "  --sklearn-color-fitted-level-1: #d4ebff;\n",
              "  --sklearn-color-fitted-level-2: #b3dbfd;\n",
              "  --sklearn-color-fitted-level-3: cornflowerblue;\n",
              "\n",
              "  /* Specific color for light theme */\n",
              "  --sklearn-color-text-on-default-background: var(--sg-text-color, var(--theme-code-foreground, var(--jp-content-font-color1, black)));\n",
              "  --sklearn-color-background: var(--sg-background-color, var(--theme-background, var(--jp-layout-color0, white)));\n",
              "  --sklearn-color-border-box: var(--sg-text-color, var(--theme-code-foreground, var(--jp-content-font-color1, black)));\n",
              "  --sklearn-color-icon: #696969;\n",
              "\n",
              "  @media (prefers-color-scheme: dark) {\n",
              "    /* Redefinition of color scheme for dark theme */\n",
              "    --sklearn-color-text-on-default-background: var(--sg-text-color, var(--theme-code-foreground, var(--jp-content-font-color1, white)));\n",
              "    --sklearn-color-background: var(--sg-background-color, var(--theme-background, var(--jp-layout-color0, #111)));\n",
              "    --sklearn-color-border-box: var(--sg-text-color, var(--theme-code-foreground, var(--jp-content-font-color1, white)));\n",
              "    --sklearn-color-icon: #878787;\n",
              "  }\n",
              "}\n",
              "\n",
              "#sk-container-id-1 {\n",
              "  color: var(--sklearn-color-text);\n",
              "}\n",
              "\n",
              "#sk-container-id-1 pre {\n",
              "  padding: 0;\n",
              "}\n",
              "\n",
              "#sk-container-id-1 input.sk-hidden--visually {\n",
              "  border: 0;\n",
              "  clip: rect(1px 1px 1px 1px);\n",
              "  clip: rect(1px, 1px, 1px, 1px);\n",
              "  height: 1px;\n",
              "  margin: -1px;\n",
              "  overflow: hidden;\n",
              "  padding: 0;\n",
              "  position: absolute;\n",
              "  width: 1px;\n",
              "}\n",
              "\n",
              "#sk-container-id-1 div.sk-dashed-wrapped {\n",
              "  border: 1px dashed var(--sklearn-color-line);\n",
              "  margin: 0 0.4em 0.5em 0.4em;\n",
              "  box-sizing: border-box;\n",
              "  padding-bottom: 0.4em;\n",
              "  background-color: var(--sklearn-color-background);\n",
              "}\n",
              "\n",
              "#sk-container-id-1 div.sk-container {\n",
              "  /* jupyter's `normalize.less` sets `[hidden] { display: none; }`\n",
              "     but bootstrap.min.css set `[hidden] { display: none !important; }`\n",
              "     so we also need the `!important` here to be able to override the\n",
              "     default hidden behavior on the sphinx rendered scikit-learn.org.\n",
              "     See: https://github.com/scikit-learn/scikit-learn/issues/21755 */\n",
              "  display: inline-block !important;\n",
              "  position: relative;\n",
              "}\n",
              "\n",
              "#sk-container-id-1 div.sk-text-repr-fallback {\n",
              "  display: none;\n",
              "}\n",
              "\n",
              "div.sk-parallel-item,\n",
              "div.sk-serial,\n",
              "div.sk-item {\n",
              "  /* draw centered vertical line to link estimators */\n",
              "  background-image: linear-gradient(var(--sklearn-color-text-on-default-background), var(--sklearn-color-text-on-default-background));\n",
              "  background-size: 2px 100%;\n",
              "  background-repeat: no-repeat;\n",
              "  background-position: center center;\n",
              "}\n",
              "\n",
              "/* Parallel-specific style estimator block */\n",
              "\n",
              "#sk-container-id-1 div.sk-parallel-item::after {\n",
              "  content: \"\";\n",
              "  width: 100%;\n",
              "  border-bottom: 2px solid var(--sklearn-color-text-on-default-background);\n",
              "  flex-grow: 1;\n",
              "}\n",
              "\n",
              "#sk-container-id-1 div.sk-parallel {\n",
              "  display: flex;\n",
              "  align-items: stretch;\n",
              "  justify-content: center;\n",
              "  background-color: var(--sklearn-color-background);\n",
              "  position: relative;\n",
              "}\n",
              "\n",
              "#sk-container-id-1 div.sk-parallel-item {\n",
              "  display: flex;\n",
              "  flex-direction: column;\n",
              "}\n",
              "\n",
              "#sk-container-id-1 div.sk-parallel-item:first-child::after {\n",
              "  align-self: flex-end;\n",
              "  width: 50%;\n",
              "}\n",
              "\n",
              "#sk-container-id-1 div.sk-parallel-item:last-child::after {\n",
              "  align-self: flex-start;\n",
              "  width: 50%;\n",
              "}\n",
              "\n",
              "#sk-container-id-1 div.sk-parallel-item:only-child::after {\n",
              "  width: 0;\n",
              "}\n",
              "\n",
              "/* Serial-specific style estimator block */\n",
              "\n",
              "#sk-container-id-1 div.sk-serial {\n",
              "  display: flex;\n",
              "  flex-direction: column;\n",
              "  align-items: center;\n",
              "  background-color: var(--sklearn-color-background);\n",
              "  padding-right: 1em;\n",
              "  padding-left: 1em;\n",
              "}\n",
              "\n",
              "\n",
              "/* Toggleable style: style used for estimator/Pipeline/ColumnTransformer box that is\n",
              "clickable and can be expanded/collapsed.\n",
              "- Pipeline and ColumnTransformer use this feature and define the default style\n",
              "- Estimators will overwrite some part of the style using the `sk-estimator` class\n",
              "*/\n",
              "\n",
              "/* Pipeline and ColumnTransformer style (default) */\n",
              "\n",
              "#sk-container-id-1 div.sk-toggleable {\n",
              "  /* Default theme specific background. It is overwritten whether we have a\n",
              "  specific estimator or a Pipeline/ColumnTransformer */\n",
              "  background-color: var(--sklearn-color-background);\n",
              "}\n",
              "\n",
              "/* Toggleable label */\n",
              "#sk-container-id-1 label.sk-toggleable__label {\n",
              "  cursor: pointer;\n",
              "  display: flex;\n",
              "  width: 100%;\n",
              "  margin-bottom: 0;\n",
              "  padding: 0.5em;\n",
              "  box-sizing: border-box;\n",
              "  text-align: center;\n",
              "  align-items: start;\n",
              "  justify-content: space-between;\n",
              "  gap: 0.5em;\n",
              "}\n",
              "\n",
              "#sk-container-id-1 label.sk-toggleable__label .caption {\n",
              "  font-size: 0.6rem;\n",
              "  font-weight: lighter;\n",
              "  color: var(--sklearn-color-text-muted);\n",
              "}\n",
              "\n",
              "#sk-container-id-1 label.sk-toggleable__label-arrow:before {\n",
              "  /* Arrow on the left of the label */\n",
              "  content: \"▸\";\n",
              "  float: left;\n",
              "  margin-right: 0.25em;\n",
              "  color: var(--sklearn-color-icon);\n",
              "}\n",
              "\n",
              "#sk-container-id-1 label.sk-toggleable__label-arrow:hover:before {\n",
              "  color: var(--sklearn-color-text);\n",
              "}\n",
              "\n",
              "/* Toggleable content - dropdown */\n",
              "\n",
              "#sk-container-id-1 div.sk-toggleable__content {\n",
              "  max-height: 0;\n",
              "  max-width: 0;\n",
              "  overflow: hidden;\n",
              "  text-align: left;\n",
              "  /* unfitted */\n",
              "  background-color: var(--sklearn-color-unfitted-level-0);\n",
              "}\n",
              "\n",
              "#sk-container-id-1 div.sk-toggleable__content.fitted {\n",
              "  /* fitted */\n",
              "  background-color: var(--sklearn-color-fitted-level-0);\n",
              "}\n",
              "\n",
              "#sk-container-id-1 div.sk-toggleable__content pre {\n",
              "  margin: 0.2em;\n",
              "  border-radius: 0.25em;\n",
              "  color: var(--sklearn-color-text);\n",
              "  /* unfitted */\n",
              "  background-color: var(--sklearn-color-unfitted-level-0);\n",
              "}\n",
              "\n",
              "#sk-container-id-1 div.sk-toggleable__content.fitted pre {\n",
              "  /* unfitted */\n",
              "  background-color: var(--sklearn-color-fitted-level-0);\n",
              "}\n",
              "\n",
              "#sk-container-id-1 input.sk-toggleable__control:checked~div.sk-toggleable__content {\n",
              "  /* Expand drop-down */\n",
              "  max-height: 200px;\n",
              "  max-width: 100%;\n",
              "  overflow: auto;\n",
              "}\n",
              "\n",
              "#sk-container-id-1 input.sk-toggleable__control:checked~label.sk-toggleable__label-arrow:before {\n",
              "  content: \"▾\";\n",
              "}\n",
              "\n",
              "/* Pipeline/ColumnTransformer-specific style */\n",
              "\n",
              "#sk-container-id-1 div.sk-label input.sk-toggleable__control:checked~label.sk-toggleable__label {\n",
              "  color: var(--sklearn-color-text);\n",
              "  background-color: var(--sklearn-color-unfitted-level-2);\n",
              "}\n",
              "\n",
              "#sk-container-id-1 div.sk-label.fitted input.sk-toggleable__control:checked~label.sk-toggleable__label {\n",
              "  background-color: var(--sklearn-color-fitted-level-2);\n",
              "}\n",
              "\n",
              "/* Estimator-specific style */\n",
              "\n",
              "/* Colorize estimator box */\n",
              "#sk-container-id-1 div.sk-estimator input.sk-toggleable__control:checked~label.sk-toggleable__label {\n",
              "  /* unfitted */\n",
              "  background-color: var(--sklearn-color-unfitted-level-2);\n",
              "}\n",
              "\n",
              "#sk-container-id-1 div.sk-estimator.fitted input.sk-toggleable__control:checked~label.sk-toggleable__label {\n",
              "  /* fitted */\n",
              "  background-color: var(--sklearn-color-fitted-level-2);\n",
              "}\n",
              "\n",
              "#sk-container-id-1 div.sk-label label.sk-toggleable__label,\n",
              "#sk-container-id-1 div.sk-label label {\n",
              "  /* The background is the default theme color */\n",
              "  color: var(--sklearn-color-text-on-default-background);\n",
              "}\n",
              "\n",
              "/* On hover, darken the color of the background */\n",
              "#sk-container-id-1 div.sk-label:hover label.sk-toggleable__label {\n",
              "  color: var(--sklearn-color-text);\n",
              "  background-color: var(--sklearn-color-unfitted-level-2);\n",
              "}\n",
              "\n",
              "/* Label box, darken color on hover, fitted */\n",
              "#sk-container-id-1 div.sk-label.fitted:hover label.sk-toggleable__label.fitted {\n",
              "  color: var(--sklearn-color-text);\n",
              "  background-color: var(--sklearn-color-fitted-level-2);\n",
              "}\n",
              "\n",
              "/* Estimator label */\n",
              "\n",
              "#sk-container-id-1 div.sk-label label {\n",
              "  font-family: monospace;\n",
              "  font-weight: bold;\n",
              "  display: inline-block;\n",
              "  line-height: 1.2em;\n",
              "}\n",
              "\n",
              "#sk-container-id-1 div.sk-label-container {\n",
              "  text-align: center;\n",
              "}\n",
              "\n",
              "/* Estimator-specific */\n",
              "#sk-container-id-1 div.sk-estimator {\n",
              "  font-family: monospace;\n",
              "  border: 1px dotted var(--sklearn-color-border-box);\n",
              "  border-radius: 0.25em;\n",
              "  box-sizing: border-box;\n",
              "  margin-bottom: 0.5em;\n",
              "  /* unfitted */\n",
              "  background-color: var(--sklearn-color-unfitted-level-0);\n",
              "}\n",
              "\n",
              "#sk-container-id-1 div.sk-estimator.fitted {\n",
              "  /* fitted */\n",
              "  background-color: var(--sklearn-color-fitted-level-0);\n",
              "}\n",
              "\n",
              "/* on hover */\n",
              "#sk-container-id-1 div.sk-estimator:hover {\n",
              "  /* unfitted */\n",
              "  background-color: var(--sklearn-color-unfitted-level-2);\n",
              "}\n",
              "\n",
              "#sk-container-id-1 div.sk-estimator.fitted:hover {\n",
              "  /* fitted */\n",
              "  background-color: var(--sklearn-color-fitted-level-2);\n",
              "}\n",
              "\n",
              "/* Specification for estimator info (e.g. \"i\" and \"?\") */\n",
              "\n",
              "/* Common style for \"i\" and \"?\" */\n",
              "\n",
              ".sk-estimator-doc-link,\n",
              "a:link.sk-estimator-doc-link,\n",
              "a:visited.sk-estimator-doc-link {\n",
              "  float: right;\n",
              "  font-size: smaller;\n",
              "  line-height: 1em;\n",
              "  font-family: monospace;\n",
              "  background-color: var(--sklearn-color-background);\n",
              "  border-radius: 1em;\n",
              "  height: 1em;\n",
              "  width: 1em;\n",
              "  text-decoration: none !important;\n",
              "  margin-left: 0.5em;\n",
              "  text-align: center;\n",
              "  /* unfitted */\n",
              "  border: var(--sklearn-color-unfitted-level-1) 1pt solid;\n",
              "  color: var(--sklearn-color-unfitted-level-1);\n",
              "}\n",
              "\n",
              ".sk-estimator-doc-link.fitted,\n",
              "a:link.sk-estimator-doc-link.fitted,\n",
              "a:visited.sk-estimator-doc-link.fitted {\n",
              "  /* fitted */\n",
              "  border: var(--sklearn-color-fitted-level-1) 1pt solid;\n",
              "  color: var(--sklearn-color-fitted-level-1);\n",
              "}\n",
              "\n",
              "/* On hover */\n",
              "div.sk-estimator:hover .sk-estimator-doc-link:hover,\n",
              ".sk-estimator-doc-link:hover,\n",
              "div.sk-label-container:hover .sk-estimator-doc-link:hover,\n",
              ".sk-estimator-doc-link:hover {\n",
              "  /* unfitted */\n",
              "  background-color: var(--sklearn-color-unfitted-level-3);\n",
              "  color: var(--sklearn-color-background);\n",
              "  text-decoration: none;\n",
              "}\n",
              "\n",
              "div.sk-estimator.fitted:hover .sk-estimator-doc-link.fitted:hover,\n",
              ".sk-estimator-doc-link.fitted:hover,\n",
              "div.sk-label-container:hover .sk-estimator-doc-link.fitted:hover,\n",
              ".sk-estimator-doc-link.fitted:hover {\n",
              "  /* fitted */\n",
              "  background-color: var(--sklearn-color-fitted-level-3);\n",
              "  color: var(--sklearn-color-background);\n",
              "  text-decoration: none;\n",
              "}\n",
              "\n",
              "/* Span, style for the box shown on hovering the info icon */\n",
              ".sk-estimator-doc-link span {\n",
              "  display: none;\n",
              "  z-index: 9999;\n",
              "  position: relative;\n",
              "  font-weight: normal;\n",
              "  right: .2ex;\n",
              "  padding: .5ex;\n",
              "  margin: .5ex;\n",
              "  width: min-content;\n",
              "  min-width: 20ex;\n",
              "  max-width: 50ex;\n",
              "  color: var(--sklearn-color-text);\n",
              "  box-shadow: 2pt 2pt 4pt #999;\n",
              "  /* unfitted */\n",
              "  background: var(--sklearn-color-unfitted-level-0);\n",
              "  border: .5pt solid var(--sklearn-color-unfitted-level-3);\n",
              "}\n",
              "\n",
              ".sk-estimator-doc-link.fitted span {\n",
              "  /* fitted */\n",
              "  background: var(--sklearn-color-fitted-level-0);\n",
              "  border: var(--sklearn-color-fitted-level-3);\n",
              "}\n",
              "\n",
              ".sk-estimator-doc-link:hover span {\n",
              "  display: block;\n",
              "}\n",
              "\n",
              "/* \"?\"-specific style due to the `<a>` HTML tag */\n",
              "\n",
              "#sk-container-id-1 a.estimator_doc_link {\n",
              "  float: right;\n",
              "  font-size: 1rem;\n",
              "  line-height: 1em;\n",
              "  font-family: monospace;\n",
              "  background-color: var(--sklearn-color-background);\n",
              "  border-radius: 1rem;\n",
              "  height: 1rem;\n",
              "  width: 1rem;\n",
              "  text-decoration: none;\n",
              "  /* unfitted */\n",
              "  color: var(--sklearn-color-unfitted-level-1);\n",
              "  border: var(--sklearn-color-unfitted-level-1) 1pt solid;\n",
              "}\n",
              "\n",
              "#sk-container-id-1 a.estimator_doc_link.fitted {\n",
              "  /* fitted */\n",
              "  border: var(--sklearn-color-fitted-level-1) 1pt solid;\n",
              "  color: var(--sklearn-color-fitted-level-1);\n",
              "}\n",
              "\n",
              "/* On hover */\n",
              "#sk-container-id-1 a.estimator_doc_link:hover {\n",
              "  /* unfitted */\n",
              "  background-color: var(--sklearn-color-unfitted-level-3);\n",
              "  color: var(--sklearn-color-background);\n",
              "  text-decoration: none;\n",
              "}\n",
              "\n",
              "#sk-container-id-1 a.estimator_doc_link.fitted:hover {\n",
              "  /* fitted */\n",
              "  background-color: var(--sklearn-color-fitted-level-3);\n",
              "}\n",
              "</style><div id=\"sk-container-id-1\" class=\"sk-top-container\"><div class=\"sk-text-repr-fallback\"><pre>RandomForestClassifier(random_state=42)</pre><b>In a Jupyter environment, please rerun this cell to show the HTML representation or trust the notebook. <br />On GitHub, the HTML representation is unable to render, please try loading this page with nbviewer.org.</b></div><div class=\"sk-container\" hidden><div class=\"sk-item\"><div class=\"sk-estimator fitted sk-toggleable\"><input class=\"sk-toggleable__control sk-hidden--visually\" id=\"sk-estimator-id-1\" type=\"checkbox\" checked><label for=\"sk-estimator-id-1\" class=\"sk-toggleable__label fitted sk-toggleable__label-arrow\"><div><div>RandomForestClassifier</div></div><div><a class=\"sk-estimator-doc-link fitted\" rel=\"noreferrer\" target=\"_blank\" href=\"https://scikit-learn.org/1.6/modules/generated/sklearn.ensemble.RandomForestClassifier.html\">?<span>Documentation for RandomForestClassifier</span></a><span class=\"sk-estimator-doc-link fitted\">i<span>Fitted</span></span></div></label><div class=\"sk-toggleable__content fitted\"><pre>RandomForestClassifier(random_state=42)</pre></div> </div></div></div></div>"
            ],
            "text/plain": [
              "RandomForestClassifier(random_state=42)"
            ]
          },
          "execution_count": 29,
          "metadata": {},
          "output_type": "execute_result"
        }
      ],
      "source": [
        "model = RandomForestClassifier(random_state=randomseed)\n",
        "model.fit(X_train,y_train)"
      ]
    },
    {
      "cell_type": "code",
      "execution_count": 30,
      "metadata": {
        "id": "TCPKmMys8GUT"
      },
      "outputs": [],
      "source": [
        "pred = model.predict(X_test)\n",
        "pred_proba = model.predict_proba(X_test)\n",
        "\n",
        "pred_proba = np.array([prob[1] for prob in pred_proba])"
      ]
    },
    {
      "cell_type": "code",
      "execution_count": 31,
      "metadata": {},
      "outputs": [],
      "source": [
        "import pickle\n",
        "MODEL_PATH = \"model.pkl\"\n",
        "with open(MODEL_PATH, \"wb\") as file:\n",
        "    pickle.dump(model, file)"
      ]
    },
    {
      "cell_type": "code",
      "execution_count": 32,
      "metadata": {
        "colab": {
          "base_uri": "https://localhost:8080/"
        },
        "id": "Tai8ksEk8pn7",
        "outputId": "b5695cb5-2366-44f2-9c49-c09460c2c78e"
      },
      "outputs": [
        {
          "data": {
            "text/plain": [
              "array([[10536,   142],\n",
              "       [  113,  7955]], dtype=int64)"
            ]
          },
          "execution_count": 32,
          "metadata": {},
          "output_type": "execute_result"
        }
      ],
      "source": [
        "cm = confusion_matrix(y_test,pred)\n",
        "cm"
      ]
    },
    {
      "cell_type": "code",
      "execution_count": 36,
      "metadata": {
        "colab": {
          "base_uri": "https://localhost:8080/",
          "height": 449
        },
        "id": "4HQpEk9c8utE",
        "outputId": "ab62203b-8b3e-435a-d4f4-32093d3e54f4"
      },
      "outputs": [
        {
          "data": {
            "image/png": "[encoded data removed]",
            "text/plain": [
              "<Figure size 640x480 with 2 Axes>"
            ]
          },
          "metadata": {},
          "output_type": "display_data"
        }
      ],
      "source": [
        "classes = ['Malware', 'Safe']\n",
        "\n",
        "cmd = ConfusionMatrixDisplay(cm, display_labels=classes)\n",
        "cmd.plot()\n",
        "plt.show()"
      ]
    },
    {
      "cell_type": "code",
      "execution_count": 34,
      "metadata": {
        "id": "hMLlrMar86yk"
      },
      "outputs": [],
      "source": [
        "TP = cm[1, 1]\n",
        "FP = cm[0, 1]\n",
        "FN = cm[1, 0]\n",
        "TN = cm[0, 0]"
      ]
    },
    {
      "cell_type": "code",
      "execution_count": 35,
      "metadata": {
        "colab": {
          "base_uri": "https://localhost:8080/"
        },
        "id": "hiAFy8Kh8-cq",
        "outputId": "14ab961c-6bff-47fa-94e6-be05f2d57c3d"
      },
      "outputs": [
        {
          "name": "stdout",
          "output_type": "stream",
          "text": [
            "Accuracy: 0.9864\n",
            "Precision: 0.9825\n",
            "Recall: 0.9860\n",
            "F1 Score: 0.9842\n",
            "MCC: 0.9723\n",
            "False Positive Rate: 0.0133\n",
            "AUC Score: 0.9978\n"
          ]
        }
      ],
      "source": [
        "accuracy = (TP + TN) / (TP + TN + FP + FN)\n",
        "\n",
        "precision = TP / (TP + FP)\n",
        "\n",
        "recall = TP / (TP + FN)\n",
        "\n",
        "f1 = 2 * (precision * recall) / (precision + recall)\n",
        "\n",
        "mcc = (TP * TN - FP * FN) / np.sqrt((TP + FP) * (TP + FN) * (TN + FP) * (TN + FN))\n",
        "\n",
        "fpr = FP / (FP + TN)\n",
        "\n",
        "auc = roc_auc_score(y_test, pred_proba)\n",
        "\n",
        "print(f\"Accuracy: {accuracy:.4f}\")\n",
        "print(f\"Precision: {precision:.4f}\")\n",
        "print(f\"Recall: {recall:.4f}\")\n",
        "print(f\"F1 Score: {f1:.4f}\")\n",
        "print(f\"MCC: {mcc:.4f}\")\n",
        "print(f\"False Positive Rate: {fpr:.4f}\")\n",
        "print(f\"AUC Score: {auc:.4f}\")"
      ]
    }
  ],
  "metadata": {
    "colab": {
      "provenance": []
    },
    "kernelspec": {
      "display_name": "Python 3",
      "name": "python3"
    },
    "language_info": {
      "codemirror_mode": {
        "name": "ipython",
        "version": 3
      },
      "file_extension": ".py",
      "mimetype": "text/x-python",
      "name": "python",
      "nbconvert_exporter": "python",
      "pygments_lexer": "ipython3",
      "version": "3.12.4"
    }
  },
  "nbformat": 4,
  "nbformat_minor": 0
}
